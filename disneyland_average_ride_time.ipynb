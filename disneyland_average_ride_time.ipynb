{
  "nbformat": 4,
  "nbformat_minor": 0,
  "metadata": {
    "colab": {
      "name": "disneyland-average-ride-time",
      "version": "0.3.2",
      "provenance": []
    },
    "kernelspec": {
      "name": "python3",
      "display_name": "Python 3"
    }
  },
  "cells": [
    {
      "cell_type": "code",
      "metadata": {
        "id": "vxi-Yc9ysDCW",
        "colab_type": "code",
        "colab": {}
      },
      "source": [
        ""
      ],
      "execution_count": 0,
      "outputs": []
    },
    {
      "cell_type": "markdown",
      "metadata": {
        "id": "B7SUpzUDso3V",
        "colab_type": "text"
      },
      "source": [
        "We are going to reproduce this chart\n",
        "https://www.reddit.com/r/dataisbeautiful/comments/cboqh5/oc_disneyland_ride_duration_by_average_wait_time/\n",
        "\n",
        "![alt text](https://i.redd.it/849vz9jaik931.jpg)\n",
        "\n",
        "The author lists these data sources:\n",
        "\n",
        "\n",
        "\n",
        "```\n",
        "Just ride the monorail over and over guys!\n",
        "\n",
        "\n",
        "\n",
        "Only including Disneyland and not other parks\n",
        "\n",
        "Average of ride durations used when length is variable\n",
        "\n",
        "Data from https://touringplans.com/disneyland/wait-times\n",
        "\n",
        "and https://touringplans.com/disneyland/attractions/duration\n",
        "\n",
        "and wikipedia for variable duration rides\n",
        "\n",
        "Plotted in JMP\n",
        "```\n",
        "\n"
      ]
    },
    {
      "cell_type": "code",
      "metadata": {
        "id": "KS4WzSgSxeEX",
        "colab_type": "code",
        "colab": {}
      },
      "source": [
        "#!pip install pipenv"
      ],
      "execution_count": 0,
      "outputs": []
    },
    {
      "cell_type": "code",
      "metadata": {
        "id": "6Lr5ttastHZj",
        "colab_type": "code",
        "outputId": "b53ad8d2-02c9-439e-f1f0-46c5ba2fd137",
        "colab": {
          "base_uri": "https://localhost:8080/",
          "height": 377
        }
      },
      "source": [
        "#!pipenv install requests-html\n",
        "!pip install requests-html"
      ],
      "execution_count": 4,
      "outputs": [
        {
          "output_type": "stream",
          "text": [
            "Requirement already satisfied: requests-html in /usr/local/lib/python3.6/dist-packages (0.10.0)\n",
            "Requirement already satisfied: pyquery in /usr/local/lib/python3.6/dist-packages (from requests-html) (1.4.0)\n",
            "Requirement already satisfied: w3lib in /usr/local/lib/python3.6/dist-packages (from requests-html) (1.20.0)\n",
            "Requirement already satisfied: pyppeteer>=0.0.14 in /usr/local/lib/python3.6/dist-packages (from requests-html) (0.0.25)\n",
            "Requirement already satisfied: fake-useragent in /usr/local/lib/python3.6/dist-packages (from requests-html) (0.1.11)\n",
            "Requirement already satisfied: requests in /usr/local/lib/python3.6/dist-packages (from requests-html) (2.21.0)\n",
            "Requirement already satisfied: parse in /usr/local/lib/python3.6/dist-packages (from requests-html) (1.12.0)\n",
            "Requirement already satisfied: bs4 in /usr/local/lib/python3.6/dist-packages (from requests-html) (0.0.1)\n",
            "Requirement already satisfied: cssselect>0.7.9 in /usr/local/lib/python3.6/dist-packages (from pyquery->requests-html) (1.0.3)\n",
            "Requirement already satisfied: lxml>=2.1 in /usr/local/lib/python3.6/dist-packages (from pyquery->requests-html) (4.2.6)\n",
            "Requirement already satisfied: six>=1.4.1 in /usr/local/lib/python3.6/dist-packages (from w3lib->requests-html) (1.12.0)\n",
            "Requirement already satisfied: pyee in /usr/local/lib/python3.6/dist-packages (from pyppeteer>=0.0.14->requests-html) (6.0.0)\n",
            "Requirement already satisfied: websockets in /usr/local/lib/python3.6/dist-packages (from pyppeteer>=0.0.14->requests-html) (8.0)\n",
            "Requirement already satisfied: appdirs in /usr/local/lib/python3.6/dist-packages (from pyppeteer>=0.0.14->requests-html) (1.4.3)\n",
            "Requirement already satisfied: urllib3 in /usr/local/lib/python3.6/dist-packages (from pyppeteer>=0.0.14->requests-html) (1.24.3)\n",
            "Requirement already satisfied: tqdm in /usr/local/lib/python3.6/dist-packages (from pyppeteer>=0.0.14->requests-html) (4.28.1)\n",
            "Requirement already satisfied: chardet<3.1.0,>=3.0.2 in /usr/local/lib/python3.6/dist-packages (from requests->requests-html) (3.0.4)\n",
            "Requirement already satisfied: idna<2.9,>=2.5 in /usr/local/lib/python3.6/dist-packages (from requests->requests-html) (2.8)\n",
            "Requirement already satisfied: certifi>=2017.4.17 in /usr/local/lib/python3.6/dist-packages (from requests->requests-html) (2019.6.16)\n",
            "Requirement already satisfied: beautifulsoup4 in /usr/local/lib/python3.6/dist-packages (from bs4->requests-html) (4.6.3)\n"
          ],
          "name": "stdout"
        }
      ]
    },
    {
      "cell_type": "code",
      "metadata": {
        "id": "EgJylEx6xjBy",
        "colab_type": "code",
        "colab": {}
      },
      "source": [
        "from requests_html import HTMLSession"
      ],
      "execution_count": 0,
      "outputs": []
    },
    {
      "cell_type": "code",
      "metadata": {
        "id": "texgTZmhyxrK",
        "colab_type": "code",
        "colab": {}
      },
      "source": [
        "session = HTMLSession()"
      ],
      "execution_count": 0,
      "outputs": []
    },
    {
      "cell_type": "code",
      "metadata": {
        "id": "lz-6BZF2zRQU",
        "colab_type": "code",
        "colab": {}
      },
      "source": [
        "r = session.get('https://touringplans.com/disneyland/wait-times')"
      ],
      "execution_count": 0,
      "outputs": []
    },
    {
      "cell_type": "code",
      "metadata": {
        "id": "YQu2riGLzYOt",
        "colab_type": "code",
        "outputId": "77d5852b-b20d-4bfd-9cc3-3104a466bde0",
        "colab": {
          "base_uri": "https://localhost:8080/",
          "height": 34
        }
      },
      "source": [
        "r.status_code"
      ],
      "execution_count": 60,
      "outputs": [
        {
          "output_type": "execute_result",
          "data": {
            "text/plain": [
              "200"
            ]
          },
          "metadata": {
            "tags": []
          },
          "execution_count": 60
        }
      ]
    },
    {
      "cell_type": "code",
      "metadata": {
        "id": "g5F3EcQzzauK",
        "colab_type": "code",
        "colab": {}
      },
      "source": [
        "#script_sel=\"#new_gchart_slideshow > div.forecast-viewport > ul > li:nth-child(2) > script\""
      ],
      "execution_count": 0,
      "outputs": []
    },
    {
      "cell_type": "code",
      "metadata": {
        "id": "S3oNDwYOzr7j",
        "colab_type": "code",
        "colab": {}
      },
      "source": [
        "#e = r.html.find(script_sel, first=True)\n",
        "#e"
      ],
      "execution_count": 0,
      "outputs": []
    },
    {
      "cell_type": "code",
      "metadata": {
        "id": "GPcM_EI40Ejo",
        "colab_type": "code",
        "colab": {}
      },
      "source": [
        "script_sel2=\"#new_gchart_slideshow > div.forecast-viewport > ul > li > script\""
      ],
      "execution_count": 0,
      "outputs": []
    },
    {
      "cell_type": "code",
      "metadata": {
        "id": "UYMq8pE40YCj",
        "colab_type": "code",
        "colab": {}
      },
      "source": [
        "#r.html.find(script_sel2)"
      ],
      "execution_count": 0,
      "outputs": []
    },
    {
      "cell_type": "code",
      "metadata": {
        "id": "dFaZ32jq0cOi",
        "colab_type": "code",
        "colab": {}
      },
      "source": [
        "#first = r.html.find(script_sel, first=True)"
      ],
      "execution_count": 0,
      "outputs": []
    },
    {
      "cell_type": "code",
      "metadata": {
        "id": "6c2TqMXJ0o6y",
        "colab_type": "code",
        "colab": {}
      },
      "source": [
        "#first"
      ],
      "execution_count": 0,
      "outputs": []
    },
    {
      "cell_type": "code",
      "metadata": {
        "id": "BeRWHL_C0psT",
        "colab_type": "code",
        "colab": {}
      },
      "source": [
        "#first.text"
      ],
      "execution_count": 0,
      "outputs": []
    },
    {
      "cell_type": "code",
      "metadata": {
        "id": "ppyB3oKI0vNp",
        "colab_type": "code",
        "colab": {}
      },
      "source": [
        "#first.attrs"
      ],
      "execution_count": 0,
      "outputs": []
    },
    {
      "cell_type": "code",
      "metadata": {
        "id": "dHUsdZCR06L8",
        "colab_type": "code",
        "colab": {}
      },
      "source": [
        "#import pprint"
      ],
      "execution_count": 0,
      "outputs": []
    },
    {
      "cell_type": "code",
      "metadata": {
        "id": "ccT4tSr54mo9",
        "colab_type": "code",
        "colab": {}
      },
      "source": [
        "#pp = pprint.PrettyPrinter(indent=4)"
      ],
      "execution_count": 0,
      "outputs": []
    },
    {
      "cell_type": "code",
      "metadata": {
        "id": "-0lHDKXL4see",
        "colab_type": "code",
        "colab": {}
      },
      "source": [
        "#pp.pprint(first.text)"
      ],
      "execution_count": 0,
      "outputs": []
    },
    {
      "cell_type": "code",
      "metadata": {
        "id": "j04GxIAz8Mm2",
        "colab_type": "code",
        "colab": {}
      },
      "source": [
        "#data"
      ],
      "execution_count": 0,
      "outputs": []
    },
    {
      "cell_type": "code",
      "metadata": {
        "id": "PzH-AAlg8q3G",
        "colab_type": "code",
        "colab": {}
      },
      "source": [
        "#data2='function() { google.load(\"visualization\", \"1\", {packages:[\"corechart\"], callback: drawChart137}); }); function drawChart137() { // Create and populate the data table. var dateData = new google.visualization.DataTable(); dateData.addColumn(\\'datetime\\', \\'time\\'); //dateData.addColumn(\\'number\\', \\'null\\'); dateData.addColumn(\\'number\\', \\'Wait Times the Crowd Calendar Predicted\\'); dateData.addRows([[new Date( 2019,6,13,07,00,00 ), 8],[new Date( 2019,6,13,07,15,00 ), 2],[new Date( 2019,6,13,07,30,00 ), 3],[new Date( 2019,6,13,07,45,00 ), 4],[new Date( 2019,6,13,08,00,00 ), 8],[new Date( 2019,6,13,08,15,00 ), 4],[new Date( 2019,6,13,08,30,00 ), 4],[new Date( 2019,6,13,08,45,00 ), 4],[new Date( 2019,6,13,09,00,00 ), 12],[new Date( 2019,6,13,09,15,00 ), 12],[new Date( 2019,6,13,09,30,00 ), 12],[new Date( 2019,6,13,09,45,00 ), 8],[new Date( 2019,6,13,10,00,00 ), 8],[new Date( 2019,6,13,10,15,00 ), 8],[new Date( 2019,6,13,10,30,00 ), 8],[new Date( 2019,6,13,10,45,00 ), 8],[new Date( 2019,6,13,11,00,00 ), 8],[new Date( 2019,6,13,11,15,00 ), 8],[new Date( 2019,6,13,11,30,00 ), 8],[new Date( 2019,6,13,11,45,00 ), 8],[new Date( 2019,6,13,12,00,00 ), 8],[new Date( 2019,6,13,12,15,00 ), 8],[new Date( 2019,6,13,12,30,00 ), 8],[new Date( 2019,6,13,12,45,00 ), 21],[new Date( 2019,6,13,13,00,00 ), 21],[new Date( 2019,6,13,13,15,00 ), 21],[new Date( 2019,6,13,13,30,00 ), 21],[new Date( 2019,6,13,13,45,00 ), 16],[new Date( 2019,6,13,14,00,00 ), 16],[new Date( 2019,6,13,14,15,00 ), 16],[new Date( 2019,6,13,14,30,00 ), 16],[new Date( 2019,6,13,14,45,00 ), 16],[new Date( 2019,6,13,15,00,00 ), 16],[new Date( 2019,6,13,15,15,00 ), 16],[new Date( 2019,6,13,15,30,00 ), 16],[new Date( 2019,6,13,15,45,00 ), 16],[new Date( 2019,6,13,16,00,00 ), 16],[new Date( 2019,6,13,16,15,00 ), 16],[new Date( 2019,6,13,16,30,00 ), 16],[new Date( 2019,6,13,16,45,00 ), 16],[new Date( 2019,6,13,17,00,00 ), 16],[new Date( 2019,6,13,17,15,00 ), 16],[new Date( 2019,6,13,17,30,00 ), 16],[new Date( 2019,6,13,17,45,00 ), 16],[new Date( 2019,6,13,18,00,00 ), 16],[new Date( 2019,6,13,18,15,00 ), 16],[new Date( 2019,6,13,18,30,00 ), 16],[new Date( 2019,6,13,18,45,00 ), 16],[new Date( 2019,6,13,19,00,00 ), 16],[new Date( 2019,6,13,19,15,00 ), 16],[new Date( 2019,6,13,19,30,00 ), 16],[new Date( 2019,6,13,19,45,00 ), 16],[new Date( 2019,6,13,20,00,00 ), 16],[new Date( 2019,6,13,20,15,00 ), 16],[new Date( 2019,6,13,20,30,00 ), 16],[new Date( 2019,6,13,20,45,00 ), 16],[new Date( 2019,6,13,21,00,00 ), 16],[new Date( 2019,6,13,21,15,00 ), 16],[new Date( 2019,6,13,21,30,00 ), 16],[new Date( 2019,6,13,21,45,00 ), 21],[new Date( 2019,6,13,22,00,00 ), 21],[new Date( 2019,6,13,22,15,00 ), 21],[new Date( 2019,6,13,22,30,00 ), 16],[new Date( 2019,6,13,22,45,00 ), 16],[new Date( 2019,6,13,23,00,00 ), 16],[new Date( 2019,6,13,23,15,00 ), 12],[new Date( 2019,6,13,23,30,00 ), 8],[new Date( 2019,6,13,23,45,00 ), 8]]); var userOptions = { title: \"Alice in Wonderland - 7/13/19\", series: [ // CC Predicted forecasts {color: \\'blue\\', pointSize: 0, visibleInLegend: true, lineWidth:2 }, ], width: $(\\'div#center.column\\').width(), height: 320, chartArea:{left:30,top:50,width:\"80%\",height:\"70%\"}, legend: {position: \\'top\\', textStyle: {color: \\'black\\', fontSize: 11}}, fontSize:10, hAxis: { slantedText: true, slantedTextAngle: 45, viewWindowMode:\\'pretty\\', format: \\'h aa\\', maxValue: new Date(2019,6,14,00,00,00) }, vAxis: {format: \\'0\\', title: \\'minutes\\', maxValue: 26} // Nothing specified for axis 0 }; var userChart = new google.visualization.AreaChart(document.getElementById(\\'google_chart_137\\')); userChart.draw(dateData, userOptions); } $(\"#new_gchart_slideshow\").width( $(\"div#center.column\").width();'"
      ],
      "execution_count": 0,
      "outputs": []
    },
    {
      "cell_type": "code",
      "metadata": {
        "id": "G5NeMq2k8t26",
        "colab_type": "code",
        "colab": {}
      },
      "source": [
        "#print(data2)"
      ],
      "execution_count": 0,
      "outputs": []
    },
    {
      "cell_type": "code",
      "metadata": {
        "id": "9zG88bef_dwI",
        "colab_type": "code",
        "colab": {}
      },
      "source": [
        "data3=\"\"\"\n",
        "function drawChart137() {\n",
        "//dateData.addColumn('number', 'Wait Times the Crowd Calendar Predicted'); \n",
        "    \n",
        " var columns = [[new Date( 2019,6,13,07,00,00 ), 8],[new Date( 2019,6,13,07,15,00 ), 2],[new Date( 2019,6,13,07,30,00 ), 3],[new Date( 2019,6,13,07,45,00 ), 4],[new Date( 2019,6,13,08,00,00 ), 8],[new Date( 2019,6,13,08,15,00 ), 4],[new Date( 2019,6,13,08,30,00 ), 4],[new Date( 2019,6,13,08,45,00 ), 4],[new Date( 2019,6,13,09,00,00 ), 12],[new Date( 2019,6,13,09,15,00 ), 12],[new Date( 2019,6,13,09,30,00 ), 12],[new Date( 2019,6,13,09,45,00 ), 8],[new Date( 2019,6,13,10,00,00 ), 8],[new Date( 2019,6,13,10,15,00 ), 8],[new Date( 2019,6,13,10,30,00 ), 8],[new Date( 2019,6,13,10,45,00 ), 8],[new Date( 2019,6,13,11,00,00 ), 8],[new Date( 2019,6,13,11,15,00 ), 8],[new Date( 2019,6,13,11,30,00 ), 8],[new Date( 2019,6,13,11,45,00 ), 8],[new Date( 2019,6,13,12,00,00 ), 8],[new Date( 2019,6,13,12,15,00 ), 8],[new Date( 2019,6,13,12,30,00 ), 8],[new Date( 2019,6,13,12,45,00 ), 21],[new Date( 2019,6,13,13,00,00 ), 21],[new Date( 2019,6,13,13,15,00 ), 21],[new Date( 2019,6,13,13,30,00 ), 21],[new Date( 2019,6,13,13,45,00 ), 16],[new Date( 2019,6,13,14,00,00 ), 16],[new Date( 2019,6,13,14,15,00 ), 16],[new Date( 2019,6,13,14,30,00 ), 16],[new Date( 2019,6,13,14,45,00 ), 16],[new Date( 2019,6,13,15,00,00 ), 16],[new Date( 2019,6,13,15,15,00 ), 16],[new Date( 2019,6,13,15,30,00 ), 16],[new Date( 2019,6,13,15,45,00 ), 16],[new Date( 2019,6,13,16,00,00 ), 16],[new Date( 2019,6,13,16,15,00 ), 16],[new Date( 2019,6,13,16,30,00 ), 16],[new Date( 2019,6,13,16,45,00 ), 16],[new Date( 2019,6,13,17,00,00 ), 16],[new Date( 2019,6,13,17,15,00 ), 16],[new Date( 2019,6,13,17,30,00 ), 16],[new Date( 2019,6,13,17,45,00 ), 16],[new Date( 2019,6,13,18,00,00 ), 16],[new Date( 2019,6,13,18,15,00 ), 16],[new Date( 2019,6,13,18,30,00 ), 16],[new Date( 2019,6,13,18,45,00 ), 16],[new Date( 2019,6,13,19,00,00 ), 16],[new Date( 2019,6,13,19,15,00 ), 16],[new Date( 2019,6,13,19,30,00 ), 16],[new Date( 2019,6,13,19,45,00 ), 16],[new Date( 2019,6,13,20,00,00 ), 16],[new Date( 2019,6,13,20,15,00 ), 16],[new Date( 2019,6,13,20,30,00 ), 16],[new Date( 2019,6,13,20,45,00 ), 16],[new Date( 2019,6,13,21,00,00 ), 16],[new Date( 2019,6,13,21,15,00 ), 16],[new Date( 2019,6,13,21,30,00 ), 16],[new Date( 2019,6,13,21,45,00 ), 21],[new Date( 2019,6,13,22,00,00 ), 21],[new Date( 2019,6,13,22,15,00 ), 21],[new Date( 2019,6,13,22,30,00 ), 16],[new Date( 2019,6,13,22,45,00 ), 16],[new Date( 2019,6,13,23,00,00 ), 16],[new Date( 2019,6,13,23,15,00 ), 12],[new Date( 2019,6,13,23,30,00 ), 8],[new Date( 2019,6,13,23,45,00 ), 8]]; \n",
        "var userOptions = { title: \"Alice in Wonderland - 7/13/19\"}\n",
        "\n",
        "//return (columns, userOptions);\n",
        "return [columns, userOptions[\"title\"]];\n",
        "}\n",
        " \"\"\""
      ],
      "execution_count": 0,
      "outputs": []
    },
    {
      "cell_type": "code",
      "metadata": {
        "id": "mUc-Yu5zD6Sa",
        "colab_type": "code",
        "outputId": "b805f419-3d41-41e4-98df-3dca1c93fcf2",
        "colab": {
          "base_uri": "https://localhost:8080/",
          "height": 34
        }
      },
      "source": [
        "#https://stackoverflow.com/questions/10136319/executing-javascript-from-python\n",
        "!pip install py-mini-racer"
      ],
      "execution_count": 63,
      "outputs": [
        {
          "output_type": "stream",
          "text": [
            "Requirement already satisfied: py-mini-racer in /usr/local/lib/python3.6/dist-packages (0.1.18)\n"
          ],
          "name": "stdout"
        }
      ]
    },
    {
      "cell_type": "code",
      "metadata": {
        "id": "1bESeR53HCsP",
        "colab_type": "code",
        "colab": {}
      },
      "source": [
        "from py_mini_racer import py_mini_racer\n",
        "ctx = py_mini_racer.MiniRacer()\n",
        "ctx.eval(data3)\n",
        "ctx.call(\"drawChart137\")"
      ],
      "execution_count": 0,
      "outputs": []
    },
    {
      "cell_type": "code",
      "metadata": {
        "id": "T6hhUKemHRGl",
        "colab_type": "code",
        "colab": {}
      },
      "source": [
        "columns, title = ctx.call(\"drawChart137\")"
      ],
      "execution_count": 0,
      "outputs": []
    },
    {
      "cell_type": "code",
      "metadata": {
        "id": "Qj39GYsRKUl-",
        "colab_type": "code",
        "colab": {}
      },
      "source": [
        "import pandas as pd"
      ],
      "execution_count": 0,
      "outputs": []
    },
    {
      "cell_type": "code",
      "metadata": {
        "id": "vZcnM-MoQBNV",
        "colab_type": "code",
        "colab": {}
      },
      "source": [
        "#data = dict()"
      ],
      "execution_count": 0,
      "outputs": []
    },
    {
      "cell_type": "code",
      "metadata": {
        "id": "9oIdCbrhQGLW",
        "colab_type": "code",
        "colab": {}
      },
      "source": [
        "#data[title] = columns"
      ],
      "execution_count": 0,
      "outputs": []
    },
    {
      "cell_type": "code",
      "metadata": {
        "id": "3xDN5ZX5KXkl",
        "colab_type": "code",
        "colab": {}
      },
      "source": [
        "#data"
      ],
      "execution_count": 0,
      "outputs": []
    },
    {
      "cell_type": "code",
      "metadata": {
        "id": "41ShagDbKfWr",
        "colab_type": "code",
        "colab": {}
      },
      "source": [
        "all_rides = r.html.find(script_sel2)"
      ],
      "execution_count": 0,
      "outputs": []
    },
    {
      "cell_type": "code",
      "metadata": {
        "id": "imEXpoZeK_cZ",
        "colab_type": "code",
        "outputId": "55acaa6d-d194-47fd-9d2f-41a23810af9e",
        "colab": {
          "base_uri": "https://localhost:8080/",
          "height": 54
        }
      },
      "source": [
        "all_rides[0].text"
      ],
      "execution_count": 67,
      "outputs": [
        {
          "output_type": "execute_result",
          "data": {
            "text/plain": [
              "'$(function() { google.load(\"visualization\", \"1\", {packages:[\"corechart\"], callback: drawChart137}); }); function drawChart137() { // Create and populate the data table. var dateData = new google.visualization.DataTable(); dateData.addColumn(\\'datetime\\', \\'time\\'); //dateData.addColumn(\\'number\\', \\'null\\'); dateData.addColumn(\\'number\\', \\'Wait Times the Crowd Calendar Predicted\\'); dateData.addRows([[new Date( 2019,6,15,08,00,00 ), 4],[new Date( 2019,6,15,08,15,00 ), 4],[new Date( 2019,6,15,08,30,00 ), 4],[new Date( 2019,6,15,08,45,00 ), 4],[new Date( 2019,6,15,09,00,00 ), 12],[new Date( 2019,6,15,09,15,00 ), 6],[new Date( 2019,6,15,09,30,00 ), 7],[new Date( 2019,6,15,09,45,00 ), 14],[new Date( 2019,6,15,10,00,00 ), 16],[new Date( 2019,6,15,10,15,00 ), 16],[new Date( 2019,6,15,10,30,00 ), 16],[new Date( 2019,6,15,10,45,00 ), 16],[new Date( 2019,6,15,11,00,00 ), 16],[new Date( 2019,6,15,11,15,00 ), 23],[new Date( 2019,6,15,11,30,00 ), 21],[new Date( 2019,6,15,11,45,00 ), 16],[new Date( 2019,6,15,12,00,00 ), 26],[new Date( 2019,6,15,12,15,00 ), 26],[new Date( 2019,6,15,12,30,00 ), 26],[new Date( 2019,6,15,12,45,00 ), 25],[new Date( 2019,6,15,13,00,00 ), 25],[new Date( 2019,6,15,14,30,00 ), 18],[new Date( 2019,6,15,14,45,00 ), 23],[new Date( 2019,6,15,15,00,00 ), 25],[new Date( 2019,6,15,15,15,00 ), 20],[new Date( 2019,6,15,15,30,00 ), 18],[new Date( 2019,6,15,15,45,00 ), 16],[new Date( 2019,6,15,16,00,00 ), 16],[new Date( 2019,6,15,16,15,00 ), 18],[new Date( 2019,6,15,16,30,00 ), 18],[new Date( 2019,6,15,16,45,00 ), 18],[new Date( 2019,6,15,17,00,00 ), 18],[new Date( 2019,6,15,17,15,00 ), 19],[new Date( 2019,6,15,17,30,00 ), 19],[new Date( 2019,6,15,17,45,00 ), 19],[new Date( 2019,6,15,18,00,00 ), 19],[new Date( 2019,6,15,18,15,00 ), 20],[new Date( 2019,6,15,18,30,00 ), 20],[new Date( 2019,6,15,18,45,00 ), 24],[new Date( 2019,6,15,19,00,00 ), 24],[new Date( 2019,6,15,19,15,00 ), 25],[new Date( 2019,6,15,19,30,00 ), 21],[new Date( 2019,6,15,19,45,00 ), 21],[new Date( 2019,6,15,20,00,00 ), 21],[new Date( 2019,6,15,20,15,00 ), 21],[new Date( 2019,6,15,20,30,00 ), 21],[new Date( 2019,6,15,20,45,00 ), 21],[new Date( 2019,6,15,21,00,00 ), 21],[new Date( 2019,6,15,21,15,00 ), 21],[new Date( 2019,6,15,21,30,00 ), 21],[new Date( 2019,6,15,21,45,00 ), 21],[new Date( 2019,6,15,22,00,00 ), 21],[new Date( 2019,6,15,22,15,00 ), 25],[new Date( 2019,6,15,22,30,00 ), 12],[new Date( 2019,6,15,22,45,00 ), 12],[new Date( 2019,6,15,23,00,00 ), 12],[new Date( 2019,6,15,23,15,00 ), 12],[new Date( 2019,6,15,23,30,00 ), 12],[new Date( 2019,6,15,23,45,00 ), 12]]); var userOptions = { title: \"Alice in Wonderland - 7/15/19\", series: [ // CC Predicted forecasts {color: \\'blue\\', pointSize: 0, visibleInLegend: true, lineWidth:2 }, ], width: $(\\'div#center.column\\').width(), height: 320, chartArea:{left:30,top:50,width:\"80%\",height:\"70%\"}, legend: {position: \\'top\\', textStyle: {color: \\'black\\', fontSize: 11}}, fontSize:10, hAxis: { slantedText: true, slantedTextAngle: 45, viewWindowMode:\\'pretty\\', format: \\'h aa\\', maxValue: new Date(2019,6,16,00,00,00) }, vAxis: {format: \\'0\\', title: \\'minutes\\', maxValue: 31} // Nothing specified for axis 0 }; var userChart = new google.visualization.AreaChart(document.getElementById(\\'google_chart_137\\')); userChart.draw(dateData, userOptions); } $(\"#new_gchart_slideshow\").width( $(\"div#center.column\").width() );'"
            ]
          },
          "metadata": {
            "tags": []
          },
          "execution_count": 67
        }
      ]
    },
    {
      "cell_type": "code",
      "metadata": {
        "id": "xX8TOpCMQxLa",
        "colab_type": "code",
        "colab": {}
      },
      "source": [
        "#pp.pprint(all_rides[1].text)"
      ],
      "execution_count": 0,
      "outputs": []
    },
    {
      "cell_type": "code",
      "metadata": {
        "id": "KkR2ced-WGRY",
        "colab_type": "code",
        "colab": {}
      },
      "source": [
        "import re\n",
        "\n",
        "start_row = \"dateData.addRows\\(\"\n",
        "end_row = \"\\);\"\n",
        "\n",
        "results = re.search(start_row+\"(.*)\"+end_row, all_rides[0].text)"
      ],
      "execution_count": 0,
      "outputs": []
    },
    {
      "cell_type": "code",
      "metadata": {
        "id": "mZbGq5DcXQ3r",
        "colab_type": "code",
        "colab": {}
      },
      "source": [
        "results.group(1)"
      ],
      "execution_count": 0,
      "outputs": []
    },
    {
      "cell_type": "code",
      "metadata": {
        "id": "iSGxafDUX9q6",
        "colab_type": "code",
        "colab": {}
      },
      "source": [
        "start_title = \"title: \\\"\""
      ],
      "execution_count": 0,
      "outputs": []
    },
    {
      "cell_type": "code",
      "metadata": {
        "id": "VMBpTbBrYrEl",
        "colab_type": "code",
        "colab": {}
      },
      "source": [
        "end_title = \"\\\",\""
      ],
      "execution_count": 0,
      "outputs": []
    },
    {
      "cell_type": "code",
      "metadata": {
        "id": "_4ExrKlFYuQ4",
        "colab_type": "code",
        "colab": {}
      },
      "source": [
        "results = re.search(start_title+'([^\"]+)'+end_title, all_rides[0].text)"
      ],
      "execution_count": 0,
      "outputs": []
    },
    {
      "cell_type": "code",
      "metadata": {
        "id": "JaLVhsFOYzdc",
        "colab_type": "code",
        "outputId": "25c7a17a-fed4-4d74-e290-1f9ffe9b3323",
        "colab": {
          "base_uri": "https://localhost:8080/",
          "height": 34
        }
      },
      "source": [
        "results.group(1)"
      ],
      "execution_count": 0,
      "outputs": [
        {
          "output_type": "execute_result",
          "data": {
            "text/plain": [
              "'Alice in Wonderland - 7/14/19'"
            ]
          },
          "metadata": {
            "tags": []
          },
          "execution_count": 32
        }
      ]
    },
    {
      "cell_type": "code",
      "metadata": {
        "id": "kkxpOs8lY1UF",
        "colab_type": "code",
        "colab": {}
      },
      "source": [
        "def extract_dates(data):\n",
        "  start_row = \"dateData.addRows\\(\"\n",
        "  end_row = \"\\);\"\n",
        "  \n",
        "  columns = []\n",
        "  title = None\n",
        "\n",
        "  results = re.search(start_row+\"([^;]+)\"+end_row, data)\n",
        "  \n",
        "  if results != None:\n",
        "    columns = results.group(1)\n",
        "  \n",
        "  start_title = \"title: \\\"\"\n",
        "  \n",
        "  end_title = \"\\\",\"\n",
        "  \n",
        "  results = re.search(start_title+'([^\"]+)'+end_title, data)\n",
        "  \n",
        "  if results != None:\n",
        "    \n",
        "    title = results.group(1)\n",
        "    \n",
        "  return (title, columns)\n",
        "  "
      ],
      "execution_count": 0,
      "outputs": []
    },
    {
      "cell_type": "code",
      "metadata": {
        "id": "R_o15mZ3aYci",
        "colab_type": "code",
        "outputId": "246fff5e-859b-4323-a92f-0bd5e563e69f",
        "colab": {
          "base_uri": "https://localhost:8080/",
          "height": 71
        }
      },
      "source": [
        "extract_dates(all_rides[0].text)"
      ],
      "execution_count": 70,
      "outputs": [
        {
          "output_type": "execute_result",
          "data": {
            "text/plain": [
              "('Alice in Wonderland - 7/15/19',\n",
              " '[[new Date( 2019,6,15,08,00,00 ), 4],[new Date( 2019,6,15,08,15,00 ), 4],[new Date( 2019,6,15,08,30,00 ), 4],[new Date( 2019,6,15,08,45,00 ), 4],[new Date( 2019,6,15,09,00,00 ), 12],[new Date( 2019,6,15,09,15,00 ), 6],[new Date( 2019,6,15,09,30,00 ), 7],[new Date( 2019,6,15,09,45,00 ), 14],[new Date( 2019,6,15,10,00,00 ), 16],[new Date( 2019,6,15,10,15,00 ), 16],[new Date( 2019,6,15,10,30,00 ), 16],[new Date( 2019,6,15,10,45,00 ), 16],[new Date( 2019,6,15,11,00,00 ), 16],[new Date( 2019,6,15,11,15,00 ), 23],[new Date( 2019,6,15,11,30,00 ), 21],[new Date( 2019,6,15,11,45,00 ), 16],[new Date( 2019,6,15,12,00,00 ), 26],[new Date( 2019,6,15,12,15,00 ), 26],[new Date( 2019,6,15,12,30,00 ), 26],[new Date( 2019,6,15,12,45,00 ), 25],[new Date( 2019,6,15,13,00,00 ), 25],[new Date( 2019,6,15,14,30,00 ), 18],[new Date( 2019,6,15,14,45,00 ), 23],[new Date( 2019,6,15,15,00,00 ), 25],[new Date( 2019,6,15,15,15,00 ), 20],[new Date( 2019,6,15,15,30,00 ), 18],[new Date( 2019,6,15,15,45,00 ), 16],[new Date( 2019,6,15,16,00,00 ), 16],[new Date( 2019,6,15,16,15,00 ), 18],[new Date( 2019,6,15,16,30,00 ), 18],[new Date( 2019,6,15,16,45,00 ), 18],[new Date( 2019,6,15,17,00,00 ), 18],[new Date( 2019,6,15,17,15,00 ), 19],[new Date( 2019,6,15,17,30,00 ), 19],[new Date( 2019,6,15,17,45,00 ), 19],[new Date( 2019,6,15,18,00,00 ), 19],[new Date( 2019,6,15,18,15,00 ), 20],[new Date( 2019,6,15,18,30,00 ), 20],[new Date( 2019,6,15,18,45,00 ), 24],[new Date( 2019,6,15,19,00,00 ), 24],[new Date( 2019,6,15,19,15,00 ), 25],[new Date( 2019,6,15,19,30,00 ), 21],[new Date( 2019,6,15,19,45,00 ), 21],[new Date( 2019,6,15,20,00,00 ), 21],[new Date( 2019,6,15,20,15,00 ), 21],[new Date( 2019,6,15,20,30,00 ), 21],[new Date( 2019,6,15,20,45,00 ), 21],[new Date( 2019,6,15,21,00,00 ), 21],[new Date( 2019,6,15,21,15,00 ), 21],[new Date( 2019,6,15,21,30,00 ), 21],[new Date( 2019,6,15,21,45,00 ), 21],[new Date( 2019,6,15,22,00,00 ), 21],[new Date( 2019,6,15,22,15,00 ), 25],[new Date( 2019,6,15,22,30,00 ), 12],[new Date( 2019,6,15,22,45,00 ), 12],[new Date( 2019,6,15,23,00,00 ), 12],[new Date( 2019,6,15,23,15,00 ), 12],[new Date( 2019,6,15,23,30,00 ), 12],[new Date( 2019,6,15,23,45,00 ), 12]]')"
            ]
          },
          "metadata": {
            "tags": []
          },
          "execution_count": 70
        }
      ]
    },
    {
      "cell_type": "code",
      "metadata": {
        "id": "vNtaIEMfaj4K",
        "colab_type": "code",
        "outputId": "09aa48e6-e7a8-4c63-ebd4-7d5938768e26",
        "colab": {
          "base_uri": "https://localhost:8080/",
          "height": 71
        }
      },
      "source": [
        "extract_dates(all_rides[1].text)"
      ],
      "execution_count": 71,
      "outputs": [
        {
          "output_type": "execute_result",
          "data": {
            "text/plain": [
              "('Astro Orbitor - 7/15/19',\n",
              " '[[new Date( 2019,6,15,08,00,00 ), 4],[new Date( 2019,6,15,08,15,00 ), 4],[new Date( 2019,6,15,08,30,00 ), 4],[new Date( 2019,6,15,08,45,00 ), 7],[new Date( 2019,6,15,09,00,00 ), 11],[new Date( 2019,6,15,09,15,00 ), 5],[new Date( 2019,6,15,09,30,00 ), 4],[new Date( 2019,6,15,09,45,00 ), 4],[new Date( 2019,6,15,10,00,00 ), 4],[new Date( 2019,6,15,10,15,00 ), 4],[new Date( 2019,6,15,10,30,00 ), 4],[new Date( 2019,6,15,10,45,00 ), 11],[new Date( 2019,6,15,11,00,00 ), 9],[new Date( 2019,6,15,11,15,00 ), 8],[new Date( 2019,6,15,11,30,00 ), 12],[new Date( 2019,6,15,11,45,00 ), 21],[new Date( 2019,6,15,12,00,00 ), 39],[new Date( 2019,6,15,12,15,00 ), 31],[new Date( 2019,6,15,12,30,00 ), 28],[new Date( 2019,6,15,12,45,00 ), 25],[new Date( 2019,6,15,13,00,00 ), 25],[new Date( 2019,6,15,13,15,00 ), 18],[new Date( 2019,6,15,13,30,00 ), 18],[new Date( 2019,6,15,13,45,00 ), 23],[new Date( 2019,6,15,14,00,00 ), 25],[new Date( 2019,6,15,14,15,00 ), 21],[new Date( 2019,6,15,14,30,00 ), 18],[new Date( 2019,6,15,14,45,00 ), 23],[new Date( 2019,6,15,15,00,00 ), 28],[new Date( 2019,6,15,15,15,00 ), 23],[new Date( 2019,6,15,15,30,00 ), 19],[new Date( 2019,6,15,15,45,00 ), 8],[new Date( 2019,6,15,16,00,00 ), 8],[new Date( 2019,6,15,16,15,00 ), 2],[new Date( 2019,6,15,16,30,00 ), 2],[new Date( 2019,6,15,16,45,00 ), 2],[new Date( 2019,6,15,17,00,00 ), 2],[new Date( 2019,6,15,17,15,00 ), 11],[new Date( 2019,6,15,17,30,00 ), 12],[new Date( 2019,6,15,17,45,00 ), 13],[new Date( 2019,6,15,18,00,00 ), 13],[new Date( 2019,6,15,18,15,00 ), 14],[new Date( 2019,6,15,18,30,00 ), 15],[new Date( 2019,6,15,18,45,00 ), 15],[new Date( 2019,6,15,19,00,00 ), 16],[new Date( 2019,6,15,19,15,00 ), 8],[new Date( 2019,6,15,19,30,00 ), 8],[new Date( 2019,6,15,19,45,00 ), 16],[new Date( 2019,6,15,20,00,00 ), 16],[new Date( 2019,6,15,20,15,00 ), 16],[new Date( 2019,6,15,20,30,00 ), 8],[new Date( 2019,6,15,20,45,00 ), 8],[new Date( 2019,6,15,21,00,00 ), 8],[new Date( 2019,6,15,21,15,00 ), 8],[new Date( 2019,6,15,21,30,00 ), 12],[new Date( 2019,6,15,21,45,00 ), 12],[new Date( 2019,6,15,22,00,00 ), 12],[new Date( 2019,6,15,22,15,00 ), 12],[new Date( 2019,6,15,22,30,00 ), 12],[new Date( 2019,6,15,22,45,00 ), 12],[new Date( 2019,6,15,23,00,00 ), 12],[new Date( 2019,6,15,23,15,00 ), 4],[new Date( 2019,6,15,23,30,00 ), 0],[new Date( 2019,6,15,23,45,00 ), 0]]')"
            ]
          },
          "metadata": {
            "tags": []
          },
          "execution_count": 71
        }
      ]
    },
    {
      "cell_type": "code",
      "metadata": {
        "id": "hDupzBLxapGC",
        "colab_type": "code",
        "outputId": "0e4dd5b9-445e-42c7-c77f-75fb06decd53",
        "colab": {
          "base_uri": "https://localhost:8080/",
          "height": 71
        }
      },
      "source": [
        "extract_dates(all_rides[2].text)"
      ],
      "execution_count": 72,
      "outputs": [
        {
          "output_type": "execute_result",
          "data": {
            "text/plain": [
              "('Autopia - 7/15/19',\n",
              " '[[new Date( 2019,6,15,08,00,00 ), 4],[new Date( 2019,6,15,08,15,00 ), 4],[new Date( 2019,6,15,08,30,00 ), 4],[new Date( 2019,6,15,08,45,00 ), 4],[new Date( 2019,6,15,09,00,00 ), 4],[new Date( 2019,6,15,09,15,00 ), 4],[new Date( 2019,6,15,09,30,00 ), 5],[new Date( 2019,6,15,09,45,00 ), 13],[new Date( 2019,6,15,10,00,00 ), 14],[new Date( 2019,6,15,10,15,00 ), 12],[new Date( 2019,6,15,10,30,00 ), 12],[new Date( 2019,6,15,10,45,00 ), 12],[new Date( 2019,6,15,11,00,00 ), 12],[new Date( 2019,6,15,11,15,00 ), 18],[new Date( 2019,6,15,11,30,00 ), 21],[new Date( 2019,6,15,11,45,00 ), 25],[new Date( 2019,6,15,12,00,00 ), 29],[new Date( 2019,6,15,12,15,00 ), 31],[new Date( 2019,6,15,12,30,00 ), 49],[new Date( 2019,6,15,12,45,00 ), 43],[new Date( 2019,6,15,13,00,00 ), 21],[new Date( 2019,6,15,13,15,00 ), 21],[new Date( 2019,6,15,13,30,00 ), 21],[new Date( 2019,6,15,13,45,00 ), 22],[new Date( 2019,6,15,14,00,00 ), 21],[new Date( 2019,6,15,14,15,00 ), 21],[new Date( 2019,6,15,14,30,00 ), 21],[new Date( 2019,6,15,15,15,00 ), 16],[new Date( 2019,6,15,15,30,00 ), 15],[new Date( 2019,6,15,15,45,00 ), 12],[new Date( 2019,6,15,16,00,00 ), 15],[new Date( 2019,6,15,16,15,00 ), 22],[new Date( 2019,6,15,16,30,00 ), 22],[new Date( 2019,6,15,16,45,00 ), 22],[new Date( 2019,6,15,17,00,00 ), 21],[new Date( 2019,6,15,17,15,00 ), 21],[new Date( 2019,6,15,17,30,00 ), 41],[new Date( 2019,6,15,17,45,00 ), 40],[new Date( 2019,6,15,18,00,00 ), 31],[new Date( 2019,6,15,18,15,00 ), 19],[new Date( 2019,6,15,18,30,00 ), 18],[new Date( 2019,6,15,18,45,00 ), 17],[new Date( 2019,6,15,19,00,00 ), 17],[new Date( 2019,6,15,19,15,00 ), 16],[new Date( 2019,6,15,19,30,00 ), 16],[new Date( 2019,6,15,19,45,00 ), 16],[new Date( 2019,6,15,20,00,00 ), 29],[new Date( 2019,6,15,20,15,00 ), 29],[new Date( 2019,6,15,20,30,00 ), 29],[new Date( 2019,6,15,20,45,00 ), 29],[new Date( 2019,6,15,21,00,00 ), 29],[new Date( 2019,6,15,21,15,00 ), 21],[new Date( 2019,6,15,21,30,00 ), 21],[new Date( 2019,6,15,21,45,00 ), 12],[new Date( 2019,6,15,22,00,00 ), 25],[new Date( 2019,6,15,22,15,00 ), 29],[new Date( 2019,6,15,22,30,00 ), 29],[new Date( 2019,6,15,22,45,00 ), 29],[new Date( 2019,6,15,23,00,00 ), 29],[new Date( 2019,6,15,23,15,00 ), 29],[new Date( 2019,6,15,23,30,00 ), 29],[new Date( 2019,6,15,23,45,00 ), 29]]')"
            ]
          },
          "metadata": {
            "tags": []
          },
          "execution_count": 72
        }
      ]
    },
    {
      "cell_type": "code",
      "metadata": {
        "id": "YKe1iMWdf2dc",
        "colab_type": "code",
        "outputId": "e61a3638-4a42-4a64-85ed-5c0cfd11c749",
        "colab": {
          "base_uri": "https://localhost:8080/",
          "height": 51
        }
      },
      "source": [
        "!pip install jinja2"
      ],
      "execution_count": 73,
      "outputs": [
        {
          "output_type": "stream",
          "text": [
            "Requirement already satisfied: jinja2 in /usr/local/lib/python3.6/dist-packages (2.10.1)\n",
            "Requirement already satisfied: MarkupSafe>=0.23 in /usr/local/lib/python3.6/dist-packages (from jinja2) (1.1.1)\n"
          ],
          "name": "stdout"
        }
      ]
    },
    {
      "cell_type": "code",
      "metadata": {
        "id": "77s6Nm6hg01v",
        "colab_type": "code",
        "colab": {}
      },
      "source": [
        "from jinja2 import Template\n"
      ],
      "execution_count": 0,
      "outputs": []
    },
    {
      "cell_type": "code",
      "metadata": {
        "id": "XVn340zLfag1",
        "colab_type": "code",
        "colab": {}
      },
      "source": [
        "title,columns = extract_dates(all_rides[2].text)\n",
        "\n"
      ],
      "execution_count": 0,
      "outputs": []
    },
    {
      "cell_type": "code",
      "metadata": {
        "id": "CCqi91JjaugW",
        "colab_type": "code",
        "colab": {}
      },
      "source": [
        "js_template=\"\"\"\n",
        "function drawChart137() {\n",
        "    \n",
        "  var columns = {{columns}}; \n",
        "  var title = \"{{title}}\";\n",
        "\n",
        "  return [title, columns];\n",
        "}\n",
        " \"\"\"\n",
        "\n",
        "template=Template(js_template)\n",
        "\n",
        "js_script=template.render(title=title, columns = columns)\n",
        "\n"
      ],
      "execution_count": 0,
      "outputs": []
    },
    {
      "cell_type": "code",
      "metadata": {
        "id": "Y398GCmefl3Z",
        "colab_type": "code",
        "outputId": "ad09191c-8ae0-4a3c-d31e-f73bcae74b23",
        "colab": {
          "base_uri": "https://localhost:8080/",
          "height": 190
        }
      },
      "source": [
        "print(js_script)"
      ],
      "execution_count": 77,
      "outputs": [
        {
          "output_type": "stream",
          "text": [
            "\n",
            "function drawChart137() {\n",
            "    \n",
            "  var columns = [[new Date( 2019,6,15,08,00,00 ), 4],[new Date( 2019,6,15,08,15,00 ), 4],[new Date( 2019,6,15,08,30,00 ), 4],[new Date( 2019,6,15,08,45,00 ), 4],[new Date( 2019,6,15,09,00,00 ), 4],[new Date( 2019,6,15,09,15,00 ), 4],[new Date( 2019,6,15,09,30,00 ), 5],[new Date( 2019,6,15,09,45,00 ), 13],[new Date( 2019,6,15,10,00,00 ), 14],[new Date( 2019,6,15,10,15,00 ), 12],[new Date( 2019,6,15,10,30,00 ), 12],[new Date( 2019,6,15,10,45,00 ), 12],[new Date( 2019,6,15,11,00,00 ), 12],[new Date( 2019,6,15,11,15,00 ), 18],[new Date( 2019,6,15,11,30,00 ), 21],[new Date( 2019,6,15,11,45,00 ), 25],[new Date( 2019,6,15,12,00,00 ), 29],[new Date( 2019,6,15,12,15,00 ), 31],[new Date( 2019,6,15,12,30,00 ), 49],[new Date( 2019,6,15,12,45,00 ), 43],[new Date( 2019,6,15,13,00,00 ), 21],[new Date( 2019,6,15,13,15,00 ), 21],[new Date( 2019,6,15,13,30,00 ), 21],[new Date( 2019,6,15,13,45,00 ), 22],[new Date( 2019,6,15,14,00,00 ), 21],[new Date( 2019,6,15,14,15,00 ), 21],[new Date( 2019,6,15,14,30,00 ), 21],[new Date( 2019,6,15,15,15,00 ), 16],[new Date( 2019,6,15,15,30,00 ), 15],[new Date( 2019,6,15,15,45,00 ), 12],[new Date( 2019,6,15,16,00,00 ), 15],[new Date( 2019,6,15,16,15,00 ), 22],[new Date( 2019,6,15,16,30,00 ), 22],[new Date( 2019,6,15,16,45,00 ), 22],[new Date( 2019,6,15,17,00,00 ), 21],[new Date( 2019,6,15,17,15,00 ), 21],[new Date( 2019,6,15,17,30,00 ), 41],[new Date( 2019,6,15,17,45,00 ), 40],[new Date( 2019,6,15,18,00,00 ), 31],[new Date( 2019,6,15,18,15,00 ), 19],[new Date( 2019,6,15,18,30,00 ), 18],[new Date( 2019,6,15,18,45,00 ), 17],[new Date( 2019,6,15,19,00,00 ), 17],[new Date( 2019,6,15,19,15,00 ), 16],[new Date( 2019,6,15,19,30,00 ), 16],[new Date( 2019,6,15,19,45,00 ), 16],[new Date( 2019,6,15,20,00,00 ), 29],[new Date( 2019,6,15,20,15,00 ), 29],[new Date( 2019,6,15,20,30,00 ), 29],[new Date( 2019,6,15,20,45,00 ), 29],[new Date( 2019,6,15,21,00,00 ), 29],[new Date( 2019,6,15,21,15,00 ), 21],[new Date( 2019,6,15,21,30,00 ), 21],[new Date( 2019,6,15,21,45,00 ), 12],[new Date( 2019,6,15,22,00,00 ), 25],[new Date( 2019,6,15,22,15,00 ), 29],[new Date( 2019,6,15,22,30,00 ), 29],[new Date( 2019,6,15,22,45,00 ), 29],[new Date( 2019,6,15,23,00,00 ), 29],[new Date( 2019,6,15,23,15,00 ), 29],[new Date( 2019,6,15,23,30,00 ), 29],[new Date( 2019,6,15,23,45,00 ), 29]]; \n",
            "  var title = \"Autopia - 7/15/19\";\n",
            "\n",
            "  return [title, columns];\n",
            "}\n",
            " \n"
          ],
          "name": "stdout"
        }
      ]
    },
    {
      "cell_type": "code",
      "metadata": {
        "id": "xYSax_YRfs7V",
        "colab_type": "code",
        "colab": {}
      },
      "source": [
        "from py_mini_racer import py_mini_racer\n",
        "ctx = py_mini_racer.MiniRacer()\n",
        "ctx.eval(js_script)\n",
        "title, columns = ctx.call(\"drawChart137\")"
      ],
      "execution_count": 0,
      "outputs": []
    },
    {
      "cell_type": "code",
      "metadata": {
        "id": "5VMwxgswiSsr",
        "colab_type": "code",
        "colab": {}
      },
      "source": [
        "columns"
      ],
      "execution_count": 0,
      "outputs": []
    },
    {
      "cell_type": "code",
      "metadata": {
        "id": "VG4nH1rmjlXs",
        "colab_type": "code",
        "outputId": "85ad53db-788b-45ec-9fd9-a9fff45e0b73",
        "colab": {
          "base_uri": "https://localhost:8080/",
          "height": 34
        }
      },
      "source": [
        "title"
      ],
      "execution_count": 0,
      "outputs": [
        {
          "output_type": "execute_result",
          "data": {
            "text/plain": [
              "'Autopia - 7/14/19'"
            ]
          },
          "metadata": {
            "tags": []
          },
          "execution_count": 76
        }
      ]
    },
    {
      "cell_type": "code",
      "metadata": {
        "id": "tQR5Wz78jyFr",
        "colab_type": "code",
        "colab": {}
      },
      "source": [
        ""
      ],
      "execution_count": 0,
      "outputs": []
    },
    {
      "cell_type": "code",
      "metadata": {
        "id": "u5kQAJQBkneM",
        "colab_type": "code",
        "colab": {}
      },
      "source": [
        "def build_dict(script_list):\n",
        "  \n",
        "  wait_times = dict()\n",
        "  ctx = py_mini_racer.MiniRacer()\n",
        "  \n",
        "  for script in script_list:\n",
        "    #title and columns are in JavaScript format\n",
        "    title, columns = extract_dates(script.text)\n",
        "    \n",
        "    print(title)\n",
        "    \n",
        "    js_template=\"\"\"\n",
        "      function drawChart137() {\n",
        "\n",
        "        var columns = {{columns}}; \n",
        "        var title = \"{{title}}\";\n",
        "\n",
        "        return [title, columns];\n",
        "      }\n",
        "       \"\"\"\n",
        "\n",
        "    template=Template(js_template)\n",
        "\n",
        "    #generate JavaScript dynamically and execute it\n",
        "    js_script=template.render(title=title, columns = columns)\n",
        "\n",
        "\n",
        "    ctx.eval(js_script)\n",
        "\n",
        "    #title and columns are Python objects\n",
        "    title, columns = ctx.call(\"drawChart137\")\n",
        "    \n",
        "    #build up wait times dictionary for each ride\n",
        "    wait_times[title] = columns\n",
        "    \n",
        "  return wait_times\n",
        "\n",
        "\n"
      ],
      "execution_count": 0,
      "outputs": []
    },
    {
      "cell_type": "code",
      "metadata": {
        "id": "BcoxgJ62mB91",
        "colab_type": "code",
        "outputId": "8d08bd26-280d-40dd-bd9c-b487de5f30b0",
        "colab": {
          "base_uri": "https://localhost:8080/",
          "height": 680
        }
      },
      "source": [
        "wait_times_by_ride = build_dict(all_rides)"
      ],
      "execution_count": 81,
      "outputs": [
        {
          "output_type": "stream",
          "text": [
            "Alice in Wonderland - 7/15/19\n",
            "Astro Orbitor - 7/15/19\n",
            "Autopia - 7/15/19\n",
            "Big Thunder Mountain Railroad - 7/15/19\n",
            "Buzz Lightyear Astro Blasters - 7/15/19\n",
            "Casey Jr. Circus Train - 7/15/19\n",
            "Davy Crockett\\'s Explorer Canoes - 7/15/19\n",
            "Disneyland Monorail - 7/15/19\n",
            "Dumbo the Flying Elephant - 7/15/19\n",
            "Finding Nemo Submarine Voyage - 7/15/19\n",
            "Gadget\\'s Go Coaster - 7/15/19\n",
            "Haunted Mansion - 7/15/19\n",
            "Indiana Jones Adventure - 7/15/19\n",
            "it\\'s a small world - 7/15/19\n",
            "Jungle Cruise - 7/15/19\n",
            "King Arthur Carrousel - 7/15/19\n",
            "Mad Tea Party - 7/15/19\n",
            "Mark Twain Riverboat - 7/15/19\n",
            "Matterhorn Bobsleds - 7/15/19\n",
            "Mickey\\'s House and Meet Mickey - 7/15/19\n",
            "Millennium Falcon: Smugglers Run - 7/15/19\n",
            "Minnie\\'s House - 7/15/19\n",
            "Mr. Toad\\'s Wild Ride - 7/15/19\n",
            "Peter Pan\\'s Flight - 7/15/19\n",
            "Pinocchio\\'s Daring Journey - 7/15/19\n",
            "Pirate\\'s Lair on Tom Sawyer Island - 7/15/19\n",
            "Pirates of the Caribbean - 7/15/19\n",
            "Disneyland Railroad Main Street Station - 7/15/19\n",
            "Disneyland Railroad New Orleans Square Station - 7/15/19\n",
            "Disneyland Railroad Tomorrowland Station - 7/15/19\n",
            "Disneyland Railroad Mickey\\'s Toontown - 7/15/19\n",
            "Roger Rabbit\\'s Car Toon Spin - 7/15/19\n",
            "Sailing Ship Columbia - 7/15/19\n",
            "Snow White\\'s Scary Adventures - 7/15/19\n",
            "Space Mountain - 7/15/19\n",
            "Splash Mountain - 7/15/19\n",
            "Star Tours: The Adventures Continue - 7/15/19\n",
            "Storybook Land Canal Boats - 7/15/19\n",
            "The Many Adventures of Winnie the Pooh - 7/15/19\n"
          ],
          "name": "stdout"
        }
      ]
    },
    {
      "cell_type": "code",
      "metadata": {
        "id": "CAINJfh7nELP",
        "colab_type": "code",
        "colab": {}
      },
      "source": [
        "wait_times_by_ride[\"Space Mountain - 7/14/19\"]"
      ],
      "execution_count": 0,
      "outputs": []
    },
    {
      "cell_type": "code",
      "metadata": {
        "id": "tgLETVvWntkY",
        "colab_type": "code",
        "colab": {}
      },
      "source": [
        "#df = pd.DataFrame(wait_times_by_ride)\n",
        "for title, times in wait_times_by_ride.items():\n",
        "  print(title, len(times))"
      ],
      "execution_count": 0,
      "outputs": []
    },
    {
      "cell_type": "code",
      "metadata": {
        "id": "sbdueAFKn6vR",
        "colab_type": "code",
        "colab": {}
      },
      "source": [
        "#include only 64 datapoints rides\n",
        "\n",
        "wait_times_by_ride_64 = {k: wait_times_by_ride[k] for k in wait_times_by_ride if (len(wait_times_by_ride[k]) == 64) }\n",
        "\n"
      ],
      "execution_count": 0,
      "outputs": []
    },
    {
      "cell_type": "code",
      "metadata": {
        "id": "YQor_k2V8JVB",
        "colab_type": "code",
        "colab": {}
      },
      "source": [
        "for title, times in wait_times_by_ride_64.items():\n",
        "  print(title, len(times))"
      ],
      "execution_count": 0,
      "outputs": []
    },
    {
      "cell_type": "code",
      "metadata": {
        "id": "yv_YulZu8W76",
        "colab_type": "code",
        "colab": {}
      },
      "source": [
        "import pandas as pd\n",
        "df = pd.DataFrame(wait_times_by_ride_64)\n"
      ],
      "execution_count": 0,
      "outputs": []
    },
    {
      "cell_type": "code",
      "metadata": {
        "id": "dcpRG22Z_FEY",
        "colab_type": "code",
        "colab": {}
      },
      "source": [
        "df"
      ],
      "execution_count": 0,
      "outputs": []
    },
    {
      "cell_type": "code",
      "metadata": {
        "id": "eFW7nlcU_F0Q",
        "colab_type": "code",
        "colab": {}
      },
      "source": [
        "def build_dict2(script_list):\n",
        "  \n",
        "  ctx = py_mini_racer.MiniRacer()\n",
        "  \n",
        "  wait_times_list = dict()\n",
        "  wait_delays_list = dict()\n",
        "\n",
        "  \n",
        "  for script in script_list:\n",
        "    #title and columns are in JavaScript format\n",
        "    title, columns = extract_dates(script.text)\n",
        "    \n",
        "    print(title)\n",
        "    \n",
        "    js_template=\"\"\"\n",
        "      function drawChart137() {\n",
        "\n",
        "        var columns = {{columns}}; \n",
        "        var title = \"{{title}}\";\n",
        "\n",
        "        return [title, columns];\n",
        "      }\n",
        "       \"\"\"\n",
        "\n",
        "    template=Template(js_template)\n",
        "\n",
        "    #generate JavaScript dynamically and execute it\n",
        "    js_script=template.render(title=title, columns = columns)\n",
        "\n",
        "\n",
        "    ctx.eval(js_script)\n",
        "\n",
        "    #title and columns are Python objects\n",
        "    title, columns = ctx.call(\"drawChart137\")\n",
        "    \n",
        "    #split columns\n",
        "    wait_times, wait_delays = zip(*columns)\n",
        "    \n",
        "    #print(wait_times)\n",
        "    \n",
        "    #build up wait times dictionary for each ride\n",
        "    wait_times_list[title] = wait_times\n",
        "    wait_delays_list[title] = wait_delays\n",
        "    \n",
        "    \n",
        "  return (wait_times_list, wait_delays_list)\n",
        "\n",
        "\n"
      ],
      "execution_count": 0,
      "outputs": []
    },
    {
      "cell_type": "code",
      "metadata": {
        "id": "d_cXACJswg2x",
        "colab_type": "code",
        "colab": {
          "base_uri": "https://localhost:8080/",
          "height": 680
        },
        "outputId": "2a44a69f-b234-47f8-c68b-006a221ce4f1"
      },
      "source": [
        "wait_times, wait_delays = build_dict2(all_rides)"
      ],
      "execution_count": 83,
      "outputs": [
        {
          "output_type": "stream",
          "text": [
            "Alice in Wonderland - 7/15/19\n",
            "Astro Orbitor - 7/15/19\n",
            "Autopia - 7/15/19\n",
            "Big Thunder Mountain Railroad - 7/15/19\n",
            "Buzz Lightyear Astro Blasters - 7/15/19\n",
            "Casey Jr. Circus Train - 7/15/19\n",
            "Davy Crockett\\'s Explorer Canoes - 7/15/19\n",
            "Disneyland Monorail - 7/15/19\n",
            "Dumbo the Flying Elephant - 7/15/19\n",
            "Finding Nemo Submarine Voyage - 7/15/19\n",
            "Gadget\\'s Go Coaster - 7/15/19\n",
            "Haunted Mansion - 7/15/19\n",
            "Indiana Jones Adventure - 7/15/19\n",
            "it\\'s a small world - 7/15/19\n",
            "Jungle Cruise - 7/15/19\n",
            "King Arthur Carrousel - 7/15/19\n",
            "Mad Tea Party - 7/15/19\n",
            "Mark Twain Riverboat - 7/15/19\n",
            "Matterhorn Bobsleds - 7/15/19\n",
            "Mickey\\'s House and Meet Mickey - 7/15/19\n",
            "Millennium Falcon: Smugglers Run - 7/15/19\n",
            "Minnie\\'s House - 7/15/19\n",
            "Mr. Toad\\'s Wild Ride - 7/15/19\n",
            "Peter Pan\\'s Flight - 7/15/19\n",
            "Pinocchio\\'s Daring Journey - 7/15/19\n",
            "Pirate\\'s Lair on Tom Sawyer Island - 7/15/19\n",
            "Pirates of the Caribbean - 7/15/19\n",
            "Disneyland Railroad Main Street Station - 7/15/19\n",
            "Disneyland Railroad New Orleans Square Station - 7/15/19\n",
            "Disneyland Railroad Tomorrowland Station - 7/15/19\n",
            "Disneyland Railroad Mickey\\'s Toontown - 7/15/19\n",
            "Roger Rabbit\\'s Car Toon Spin - 7/15/19\n",
            "Sailing Ship Columbia - 7/15/19\n",
            "Snow White\\'s Scary Adventures - 7/15/19\n",
            "Space Mountain - 7/15/19\n",
            "Splash Mountain - 7/15/19\n",
            "Star Tours: The Adventures Continue - 7/15/19\n",
            "Storybook Land Canal Boats - 7/15/19\n",
            "The Many Adventures of Winnie the Pooh - 7/15/19\n"
          ],
          "name": "stdout"
        }
      ]
    },
    {
      "cell_type": "code",
      "metadata": {
        "id": "zSG1OCbwx5Pv",
        "colab_type": "code",
        "colab": {}
      },
      "source": [
        "wait_times"
      ],
      "execution_count": 0,
      "outputs": []
    },
    {
      "cell_type": "code",
      "metadata": {
        "id": "rYJpFk0jzodC",
        "colab_type": "code",
        "colab": {}
      },
      "source": [
        "#include only 64 datapoints rides\n",
        "\n",
        "wait_times_64 = {k: wait_times[k] for k in wait_times if (len(wait_times[k]) == 64) }\n",
        "\n",
        "\n",
        "wait_delays_64 = {k: wait_delays[k] for k in wait_delays if (len(wait_delays[k]) == 64) }\n"
      ],
      "execution_count": 0,
      "outputs": []
    },
    {
      "cell_type": "code",
      "metadata": {
        "id": "hMzH0lSU8XKy",
        "colab_type": "code",
        "colab": {
          "base_uri": "https://localhost:8080/",
          "height": 54
        },
        "outputId": "fb101c04-2ada-4bd4-ab75-abeb1d30cf82"
      },
      "source": [
        "wait_times_64.keys()"
      ],
      "execution_count": 87,
      "outputs": [
        {
          "output_type": "execute_result",
          "data": {
            "text/plain": [
              "dict_keys(['Astro Orbitor - 7/15/19', 'Buzz Lightyear Astro Blasters - 7/15/19', 'Disneyland Monorail - 7/15/19', 'Dumbo the Flying Elephant - 7/15/19', 'Finding Nemo Submarine Voyage - 7/15/19', 'Haunted Mansion - 7/15/19', \"it's a small world - 7/15/19\", 'Jungle Cruise - 7/15/19', 'King Arthur Carrousel - 7/15/19', 'Mad Tea Party - 7/15/19', 'Matterhorn Bobsleds - 7/15/19', 'Millennium Falcon: Smugglers Run - 7/15/19', \"Mr. Toad's Wild Ride - 7/15/19\", 'Pirates of the Caribbean - 7/15/19', 'Disneyland Railroad Main Street Station - 7/15/19', 'Disneyland Railroad New Orleans Square Station - 7/15/19', 'Disneyland Railroad Tomorrowland Station - 7/15/19', 'Space Mountain - 7/15/19', 'Star Tours: The Adventures Continue - 7/15/19', 'The Many Adventures of Winnie the Pooh - 7/15/19'])"
            ]
          },
          "metadata": {
            "tags": []
          },
          "execution_count": 87
        }
      ]
    },
    {
      "cell_type": "code",
      "metadata": {
        "id": "1ukciPhu3JT5",
        "colab_type": "code",
        "colab": {}
      },
      "source": [
        "df = pd.DataFrame(wait_delays_64, index=wait_times_64[\"Astro Orbitor - 7/15/19\"])#.head()"
      ],
      "execution_count": 0,
      "outputs": []
    },
    {
      "cell_type": "code",
      "metadata": {
        "id": "spLA6zmb3Ojq",
        "colab_type": "code",
        "colab": {
          "base_uri": "https://localhost:8080/",
          "height": 442
        },
        "outputId": "75175630-f98d-4ddb-d66c-5c019a7eefda"
      },
      "source": [
        "df.info()"
      ],
      "execution_count": 90,
      "outputs": [
        {
          "output_type": "stream",
          "text": [
            "<class 'pandas.core.frame.DataFrame'>\n",
            "DatetimeIndex: 64 entries, 2019-07-15 08:00:00 to 2019-07-15 23:45:00\n",
            "Data columns (total 20 columns):\n",
            "Astro Orbitor - 7/15/19                                     64 non-null int64\n",
            "Buzz Lightyear Astro Blasters - 7/15/19                     64 non-null int64\n",
            "Disneyland Monorail - 7/15/19                               64 non-null int64\n",
            "Dumbo the Flying Elephant - 7/15/19                         64 non-null int64\n",
            "Finding Nemo Submarine Voyage - 7/15/19                     64 non-null int64\n",
            "Haunted Mansion - 7/15/19                                   64 non-null int64\n",
            "it's a small world - 7/15/19                                64 non-null int64\n",
            "Jungle Cruise - 7/15/19                                     64 non-null int64\n",
            "King Arthur Carrousel - 7/15/19                             64 non-null int64\n",
            "Mad Tea Party - 7/15/19                                     64 non-null int64\n",
            "Matterhorn Bobsleds - 7/15/19                               64 non-null int64\n",
            "Millennium Falcon: Smugglers Run - 7/15/19                  64 non-null int64\n",
            "Mr. Toad's Wild Ride - 7/15/19                              64 non-null int64\n",
            "Pirates of the Caribbean - 7/15/19                          64 non-null int64\n",
            "Disneyland Railroad Main Street Station - 7/15/19           64 non-null int64\n",
            "Disneyland Railroad New Orleans Square Station - 7/15/19    64 non-null int64\n",
            "Disneyland Railroad Tomorrowland Station - 7/15/19          64 non-null int64\n",
            "Space Mountain - 7/15/19                                    64 non-null int64\n",
            "Star Tours: The Adventures Continue - 7/15/19               64 non-null int64\n",
            "The Many Adventures of Winnie the Pooh - 7/15/19            64 non-null int64\n",
            "dtypes: int64(20)\n",
            "memory usage: 10.5 KB\n"
          ],
          "name": "stdout"
        }
      ]
    },
    {
      "cell_type": "code",
      "metadata": {
        "id": "fqirb8SA8nCj",
        "colab_type": "code",
        "colab": {
          "base_uri": "https://localhost:8080/",
          "height": 374
        },
        "outputId": "e6d21162-e3e5-4a8e-817d-e8444c056bf3"
      },
      "source": [
        "df.mean()"
      ],
      "execution_count": 91,
      "outputs": [
        {
          "output_type": "execute_result",
          "data": {
            "text/plain": [
              "Astro Orbitor - 7/15/19                                     12.453125\n",
              "Buzz Lightyear Astro Blasters - 7/15/19                     17.953125\n",
              "Disneyland Monorail - 7/15/19                               13.531250\n",
              "Dumbo the Flying Elephant - 7/15/19                         18.515625\n",
              "Finding Nemo Submarine Voyage - 7/15/19                     18.562500\n",
              "Haunted Mansion - 7/15/19                                   19.750000\n",
              "it's a small world - 7/15/19                                10.250000\n",
              "Jungle Cruise - 7/15/19                                     11.765625\n",
              "King Arthur Carrousel - 7/15/19                              4.500000\n",
              "Mad Tea Party - 7/15/19                                      4.250000\n",
              "Matterhorn Bobsleds - 7/15/19                               31.375000\n",
              "Millennium Falcon: Smugglers Run - 7/15/19                  52.031250\n",
              "Mr. Toad's Wild Ride - 7/15/19                               8.187500\n",
              "Pirates of the Caribbean - 7/15/19                          12.906250\n",
              "Disneyland Railroad Main Street Station - 7/15/19           11.640625\n",
              "Disneyland Railroad New Orleans Square Station - 7/15/19     9.828125\n",
              "Disneyland Railroad Tomorrowland Station - 7/15/19           8.765625\n",
              "Space Mountain - 7/15/19                                    38.968750\n",
              "Star Tours: The Adventures Continue - 7/15/19               23.843750\n",
              "The Many Adventures of Winnie the Pooh - 7/15/19             4.437500\n",
              "dtype: float64"
            ]
          },
          "metadata": {
            "tags": []
          },
          "execution_count": 91
        }
      ]
    },
    {
      "cell_type": "code",
      "metadata": {
        "id": "va25oGrn8yZq",
        "colab_type": "code",
        "colab": {}
      },
      "source": [
        ""
      ],
      "execution_count": 0,
      "outputs": []
    }
  ]
}